{
  "cells": [
    {
      "cell_type": "markdown",
      "metadata": {
        "id": "view-in-github",
        "colab_type": "text"
      },
      "source": [
        "<a href=\"https://colab.research.google.com/github/krishnakalyan123/Next-word-prediction-project/blob/main/mini_project_Copy2.ipynb\" target=\"_parent\"><img src=\"https://colab.research.google.com/assets/colab-badge.svg\" alt=\"Open In Colab\"/></a>"
      ]
    },
    {
      "cell_type": "code",
      "execution_count": 2,
      "id": "7d21a6d5",
      "metadata": {
        "id": "7d21a6d5"
      },
      "outputs": [],
      "source": [
        "import numpy as np\n",
        "import tensorflow as tf\n",
        "from tensorflow.keras.preprocessing.text import Tokenizer\n",
        "from tensorflow.keras.preprocessing.sequence import pad_sequences\n",
        "from tensorflow.keras.models import Sequential\n",
        "from tensorflow.keras.layers import Embedding, LSTM, Dense\n",
        "from nltk.tokenize import RegexpTokenizer\n",
        "from keras.models import Sequential, load_model\n",
        "from keras.layers import LSTM\n",
        "from keras.layers import Dense, Activation\n",
        "from keras.optimizers import RMSprop"
      ]
    },
    {
      "cell_type": "code",
      "execution_count": 3,
      "id": "377360ac",
      "metadata": {
        "colab": {
          "base_uri": "https://localhost:8080/",
          "height": 70
        },
        "id": "377360ac",
        "outputId": "33a16393-fad1-4304-8d51-269662f9b344"
      },
      "outputs": [
        {
          "output_type": "execute_result",
          "data": {
            "text/plain": [
              "\"Project Gutenberg's The Adventures of Sherlock Holmes, by Arthur Conan Doyle This eBook is for the use of anyone anywhere at no cost and with almost no restrictions whatsoever. You may copy it, give it away or re-use it under the terms of the Project Gutenberg License included with this eBook or online at www.gutenberg.net Title: The Adventures of Sherlock Holmes Author: Arthur Conan Doyle Release Date: November 29, 2002 [EBook #1661] Last Updated: May 20, 2019 Language: English Character set en\""
            ],
            "application/vnd.google.colaboratory.intrinsic+json": {
              "type": "string"
            }
          },
          "metadata": {},
          "execution_count": 3
        }
      ],
      "source": [
        "file=open(\"/content/1661-0.txt\",\"r\",encoding=\"utf8\")\n",
        "lines=[]\n",
        "for i in file:\n",
        "    lines.append(i)\n",
        "text=\"\"\n",
        "for i in lines:\n",
        "    text=' '.join(lines)\n",
        "text=text.replace('\\n',' ').replace('\\r','').replace('\\ufeff','').replace('\"',' ').replace('\"',' ')\n",
        "text=text.split()\n",
        "text=' '.join(text)\n",
        "text[:500]"
      ]
    },
    {
      "cell_type": "code",
      "execution_count": 4,
      "id": "d6efd3a2",
      "metadata": {
        "id": "d6efd3a2"
      },
      "outputs": [],
      "source": [
        "tokenizer = Tokenizer()\n",
        "tokenizer.fit_on_texts([text])\n",
        "total_words = len(tokenizer.word_index) + 1"
      ]
    },
    {
      "cell_type": "code",
      "execution_count": null,
      "id": "1ababedb",
      "metadata": {
        "id": "1ababedb"
      },
      "outputs": [],
      "source": [
        "input_sequences = []\n",
        "for line in text.split('\\n'):\n",
        "    token_list = tokenizer.texts_to_sequences([line])[0]\n",
        "    for i in range(1, len(token_list)):\n",
        "        n_gram_sequence = token_list[:i+1]\n",
        "        input_sequences.append(n_gram_sequence)"
      ]
    },
    {
      "cell_type": "code",
      "execution_count": null,
      "id": "a0c9bf60",
      "metadata": {
        "id": "a0c9bf60"
      },
      "outputs": [],
      "source": [
        "max_sequence_len = max([len(seq) for seq in input_sequences])\n",
        "input_sequences = np.array(pad_sequences(input_sequences, maxlen=max_sequence_len, padding='pre'))"
      ]
    },
    {
      "cell_type": "code",
      "execution_count": null,
      "id": "71b716f4",
      "metadata": {
        "id": "71b716f4"
      },
      "outputs": [],
      "source": [
        "x = input_sequences[:, :-1]\n",
        "y = input_sequences[:, -1]"
      ]
    },
    {
      "cell_type": "code",
      "execution_count": null,
      "id": "03ca25a0",
      "metadata": {
        "id": "03ca25a0"
      },
      "outputs": [],
      "source": [
        "y = np.array(tf.keras.utils.to_categorical(y, num_classes=total_words))\n"
      ]
    },
    {
      "cell_type": "code",
      "execution_count": null,
      "id": "3a93c55d",
      "metadata": {
        "id": "3a93c55d",
        "outputId": "eb3716d3-d5c6-46d2-c612-67206043cf0d"
      },
      "outputs": [
        {
          "name": "stdout",
          "output_type": "stream",
          "text": [
            "Model: \"sequential\"\n",
            "_________________________________________________________________\n",
            " Layer (type)                Output Shape              Param #   \n",
            "=================================================================\n",
            " embedding (Embedding)       (None, 19, 100)           893200    \n",
            "                                                                 \n",
            " lstm (LSTM)                 (None, 150)               150600    \n",
            "                                                                 \n",
            " dense (Dense)               (None, 8932)              1348732   \n",
            "                                                                 \n",
            "=================================================================\n",
            "Total params: 2,392,532\n",
            "Trainable params: 2,392,532\n",
            "Non-trainable params: 0\n",
            "_________________________________________________________________\n",
            "None\n"
          ]
        }
      ],
      "source": [
        "model = Sequential()\n",
        "model.add(Embedding(total_words, 100, input_length=max_sequence_len-1))\n",
        "model.add(LSTM(150))\n",
        "model.add(Dense(total_words, activation='softmax'))\n",
        "print(model.summary())"
      ]
    },
    {
      "cell_type": "code",
      "execution_count": null,
      "id": "d0d4a118",
      "metadata": {
        "id": "d0d4a118",
        "outputId": "bcb26f96-8389-489c-979b-fe8a89254ca8"
      },
      "outputs": [
        {
          "data": {
            "image/png": "[encoded data removed]",
            "text/plain": [
              "<IPython.core.display.Image object>"
            ]
          },
          "execution_count": 10,
          "metadata": {},
          "output_type": "execute_result"
        }
      ],
      "source": [
        "from tensorflow import keras\n",
        "from keras.utils.vis_utils import plot_model\n",
        "keras.utils.plot_model(model,to_file='plot.png',show_layer_names=True)\n",
        "\n"
      ]
    },
    {
      "cell_type": "code",
      "execution_count": null,
      "id": "968c2f8a",
      "metadata": {
        "id": "968c2f8a",
        "outputId": "fafac2e5-2b4a-490d-8cb6-5e77313df6f6"
      },
      "outputs": [
        {
          "name": "stdout",
          "output_type": "stream",
          "text": [
            "Epoch 1/50\n",
            "3176/3176 [==============================] - 122s 38ms/step - loss: 6.2683 - accuracy: 0.0748\n",
            "Epoch 2/50\n",
            "3176/3176 [==============================] - 115s 36ms/step - loss: 5.5240 - accuracy: 0.1253\n",
            "Epoch 3/50\n",
            "3176/3176 [==============================] - 107s 34ms/step - loss: 5.1112 - accuracy: 0.1514\n",
            "Epoch 4/50\n",
            "3176/3176 [==============================] - 111s 35ms/step - loss: 4.7673 - accuracy: 0.1718\n",
            "Epoch 5/50\n",
            "3176/3176 [==============================] - 121s 38ms/step - loss: 4.4523 - accuracy: 0.1903\n",
            "Epoch 6/50\n",
            "3176/3176 [==============================] - 116s 37ms/step - loss: 4.1532 - accuracy: 0.2108\n",
            "Epoch 7/50\n",
            "3176/3176 [==============================] - 112s 35ms/step - loss: 3.8692 - accuracy: 0.2397\n",
            "Epoch 8/50\n",
            "3176/3176 [==============================] - 111s 35ms/step - loss: 3.6033 - accuracy: 0.2709\n",
            "Epoch 9/50\n",
            "3176/3176 [==============================] - 110s 35ms/step - loss: 3.3534 - accuracy: 0.3053\n",
            "Epoch 10/50\n",
            "3176/3176 [==============================] - 116s 37ms/step - loss: 3.1209 - accuracy: 0.3417\n",
            "Epoch 11/50\n",
            "3176/3176 [==============================] - 110s 35ms/step - loss: 2.9062 - accuracy: 0.3785\n",
            "Epoch 12/50\n",
            "3176/3176 [==============================] - 112s 35ms/step - loss: 2.7097 - accuracy: 0.4131\n",
            "Epoch 13/50\n",
            "3176/3176 [==============================] - 115s 36ms/step - loss: 2.5277 - accuracy: 0.4484\n",
            "Epoch 14/50\n",
            "3176/3176 [==============================] - 110s 34ms/step - loss: 2.3619 - accuracy: 0.4793\n",
            "Epoch 15/50\n",
            "3176/3176 [==============================] - 113s 36ms/step - loss: 2.2100 - accuracy: 0.5082\n",
            "Epoch 16/50\n",
            "3176/3176 [==============================] - 121s 38ms/step - loss: 2.0704 - accuracy: 0.5378\n",
            "Epoch 17/50\n",
            "3176/3176 [==============================] - 108s 34ms/step - loss: 1.9459 - accuracy: 0.5639\n",
            "Epoch 18/50\n",
            "3176/3176 [==============================] - 137s 43ms/step - loss: 1.8297 - accuracy: 0.5878\n",
            "Epoch 19/50\n",
            "3176/3176 [==============================] - 110s 35ms/step - loss: 1.7238 - accuracy: 0.6104\n",
            "Epoch 20/50\n",
            "3176/3176 [==============================] - 113s 35ms/step - loss: 1.6279 - accuracy: 0.6311\n",
            "Epoch 21/50\n",
            "3176/3176 [==============================] - 33685s 11s/step - loss: 1.5384 - accuracy: 0.6510\n",
            "Epoch 22/50\n",
            "3176/3176 [==============================] - 121s 38ms/step - loss: 1.4580 - accuracy: 0.6686\n",
            "Epoch 23/50\n",
            "3176/3176 [==============================] - 119s 37ms/step - loss: 1.3824 - accuracy: 0.6859\n",
            "Epoch 24/50\n",
            "3176/3176 [==============================] - 113s 35ms/step - loss: 1.3160 - accuracy: 0.6987\n",
            "Epoch 25/50\n",
            "3176/3176 [==============================] - 112s 35ms/step - loss: 1.2513 - accuracy: 0.7128\n",
            "Epoch 26/50\n",
            "3176/3176 [==============================] - 115s 36ms/step - loss: 1.1953 - accuracy: 0.7258\n",
            "Epoch 27/50\n",
            "3176/3176 [==============================] - 111s 35ms/step - loss: 1.1415 - accuracy: 0.7366\n",
            "Epoch 28/50\n",
            "3176/3176 [==============================] - 110s 35ms/step - loss: 1.0936 - accuracy: 0.7484\n",
            "Epoch 29/50\n",
            "3176/3176 [==============================] - 114s 36ms/step - loss: 1.0504 - accuracy: 0.7584\n",
            "Epoch 30/50\n",
            "3176/3176 [==============================] - 115s 36ms/step - loss: 1.0093 - accuracy: 0.7672\n",
            "Epoch 31/50\n",
            "3176/3176 [==============================] - 112s 35ms/step - loss: 0.9709 - accuracy: 0.7748\n",
            "Epoch 32/50\n",
            "3176/3176 [==============================] - 113s 36ms/step - loss: 0.9353 - accuracy: 0.7830\n",
            "Epoch 33/50\n",
            "3176/3176 [==============================] - 113s 36ms/step - loss: 0.9016 - accuracy: 0.7905\n",
            "Epoch 34/50\n",
            "3176/3176 [==============================] - 117s 37ms/step - loss: 0.8741 - accuracy: 0.7958\n",
            "Epoch 35/50\n",
            "3176/3176 [==============================] - 111s 35ms/step - loss: 0.8449 - accuracy: 0.8016\n",
            "Epoch 36/50\n",
            "3176/3176 [==============================] - 114s 36ms/step - loss: 0.8225 - accuracy: 0.8077\n",
            "Epoch 37/50\n",
            "3176/3176 [==============================] - 113s 35ms/step - loss: 0.7954 - accuracy: 0.8132\n",
            "Epoch 38/50\n",
            "3176/3176 [==============================] - 112s 35ms/step - loss: 0.7744 - accuracy: 0.8178\n",
            "Epoch 39/50\n",
            "3176/3176 [==============================] - 113s 36ms/step - loss: 0.7549 - accuracy: 0.8223\n",
            "Epoch 40/50\n",
            "3176/3176 [==============================] - 112s 35ms/step - loss: 0.7326 - accuracy: 0.8266\n",
            "Epoch 41/50\n",
            "3176/3176 [==============================] - 122s 38ms/step - loss: 0.7174 - accuracy: 0.8306\n",
            "Epoch 42/50\n",
            "3176/3176 [==============================] - 118s 37ms/step - loss: 0.7014 - accuracy: 0.8328\n",
            "Epoch 43/50\n",
            "3176/3176 [==============================] - 121s 38ms/step - loss: 0.6880 - accuracy: 0.8346\n",
            "Epoch 44/50\n",
            "3176/3176 [==============================] - 120s 38ms/step - loss: 0.6743 - accuracy: 0.8397\n",
            "Epoch 45/50\n",
            "3176/3176 [==============================] - 141s 44ms/step - loss: 0.6606 - accuracy: 0.8409\n",
            "Epoch 46/50\n",
            "3176/3176 [==============================] - 217s 68ms/step - loss: 0.6460 - accuracy: 0.8442\n",
            "Epoch 47/50\n",
            "3176/3176 [==============================] - 220s 69ms/step - loss: 0.6356 - accuracy: 0.8473\n",
            "Epoch 48/50\n",
            "3176/3176 [==============================] - 232s 73ms/step - loss: 0.6249 - accuracy: 0.8492\n",
            "Epoch 49/50\n",
            "3176/3176 [==============================] - 202s 63ms/step - loss: 0.6162 - accuracy: 0.8501\n",
            "Epoch 50/50\n",
            "3176/3176 [==============================] - 217s 68ms/step - loss: 0.6061 - accuracy: 0.8524\n"
          ]
        }
      ],
      "source": [
        "model.compile(loss='categorical_crossentropy', optimizer='adam', metrics=['accuracy'])\n",
        "history=model.fit(x, y, epochs=50, verbose=1)"
      ]
    },
    {
      "cell_type": "code",
      "execution_count": null,
      "id": "72032d73",
      "metadata": {
        "id": "72032d73",
        "outputId": "1d893a8c-e4eb-403a-a4b3-b737d36d3588"
      },
      "outputs": [
        {
          "data": {
            "image/png": "[encoded data removed]",
            "text/plain": [
              "<Figure size 640x480 with 1 Axes>"
            ]
          },
          "metadata": {},
          "output_type": "display_data"
        },
        {
          "data": {
            "image/png": "[encoded data removed]",
            "text/plain": [
              "<Figure size 640x480 with 1 Axes>"
            ]
          },
          "metadata": {},
          "output_type": "display_data"
        }
      ],
      "source": [
        "\n",
        "import matplotlib.pyplot as plt\n",
        "plt.plot(history.history['loss'])\n",
        "plt.title('Model Training Loss')\n",
        "plt.xlabel('Epoch')\n",
        "plt.ylabel('Loss')\n",
        "plt.show()\n",
        "\n",
        "# Plotting training accuracy\n",
        "plt.plot(history.history['accuracy'])\n",
        "plt.title('Model Training Accuracy')\n",
        "plt.xlabel('Epoch')\n",
        "plt.ylabel('Accuracy')\n",
        "plt.show()\n"
      ]
    },
    {
      "cell_type": "code",
      "execution_count": null,
      "id": "bd64215c",
      "metadata": {
        "id": "bd64215c",
        "outputId": "3f6d758f-eda0-4c7c-c793-e1c80a543532"
      },
      "outputs": [
        {
          "name": "stdout",
          "output_type": "stream",
          "text": [
            "text:Project Gutenberg's\n",
            "Project Gutenberg's the adventures of sherlock holmes\n"
          ]
        }
      ],
      "source": [
        "def generate_next_words(seed_text, num_words, model, max_sequence_length, tokenizer):\n",
        "    for _ in range(num_words):\n",
        "        token_list = tokenizer.texts_to_sequences([seed_text])[0]\n",
        "        token_list = pad_sequences([token_list], maxlen=max_sequence_len-1, padding='pre')\n",
        "        predicted_probs = model.predict(token_list, verbose=0)\n",
        "        predicted = np.argmax(predicted_probs)\n",
        "        output_word = \"\"\n",
        "        for word, index in tokenizer.word_index.items():\n",
        "            if index == predicted:\n",
        "                output_word = word\n",
        "                break\n",
        "        seed_text += \" \" + output_word\n",
        "    return seed_text\n",
        "\n",
        "# Test the model\n",
        "seed_text = input(\"text:\")\n",
        "generated_text = generate_next_words(seed_text, num_words=5, model=model, max_sequence_length=max_sequence_len, tokenizer=tokenizer)\n",
        "print(generated_text)"
      ]
    }
  ],
  "metadata": {
    "kernelspec": {
      "display_name": "Python 3 (ipykernel)",
      "language": "python",
      "name": "python3"
    },
    "language_info": {
      "codemirror_mode": {
        "name": "ipython",
        "version": 3
      },
      "file_extension": ".py",
      "mimetype": "text/x-python",
      "name": "python",
      "nbconvert_exporter": "python",
      "pygments_lexer": "ipython3",
      "version": "3.10.0"
    },
    "colab": {
      "provenance": [],
      "include_colab_link": true
    }
  },
  "nbformat": 4,
  "nbformat_minor": 5
}